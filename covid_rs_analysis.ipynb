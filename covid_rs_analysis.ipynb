{
 "cells": [
  {
   "cell_type": "markdown",
   "id": "d923c38b",
   "metadata": {},
   "source": [
    "# Reading Data"
   ]
  },
  {
   "cell_type": "code",
   "execution_count": 1,
   "id": "22fc53be",
   "metadata": {},
   "outputs": [],
   "source": [
    "import pandas as pd"
   ]
  },
  {
   "cell_type": "code",
   "execution_count": 22,
   "id": "ffb91b39",
   "metadata": {},
   "outputs": [],
   "source": [
    "df = pd.read_csv('C:\\\\Users\\\\Frederico\\\\Desktop\\\\python\\\\covid_rs\\\\aplicacao_vacina.csv', \n",
    "                 encoding = 'unicode_escape', \n",
    "                 delimiter = ';',\n",
    "                low_memory=False)"
   ]
  },
  {
   "cell_type": "code",
   "execution_count": 34,
   "id": "34eec798",
   "metadata": {
    "collapsed": true
   },
   "outputs": [
    {
     "ename": "KeyError",
     "evalue": "\"['LOTE' 'CNES' 'SISTEMA_ORIGEM' 'CD_MUN_RESIDENCIA'] not found in axis\"",
     "output_type": "error",
     "traceback": [
      "\u001b[1;31m---------------------------------------------------------------------------\u001b[0m",
      "\u001b[1;31mKeyError\u001b[0m                                  Traceback (most recent call last)",
      "\u001b[1;32m<ipython-input-34-21bf95d22d00>\u001b[0m in \u001b[0;36m<module>\u001b[1;34m\u001b[0m\n\u001b[1;32m----> 1\u001b[1;33m \u001b[0mdf\u001b[0m \u001b[1;33m=\u001b[0m \u001b[0mdf\u001b[0m\u001b[1;33m.\u001b[0m\u001b[0mdrop\u001b[0m\u001b[1;33m(\u001b[0m\u001b[0mcolumns\u001b[0m \u001b[1;33m=\u001b[0m \u001b[1;33m[\u001b[0m\u001b[1;34m'LOTE'\u001b[0m\u001b[1;33m,\u001b[0m \u001b[1;34m'CNES'\u001b[0m\u001b[1;33m,\u001b[0m \u001b[1;34m'SISTEMA_ORIGEM'\u001b[0m\u001b[1;33m,\u001b[0m \u001b[1;34m'CD_MUN_RESIDENCIA'\u001b[0m\u001b[1;33m,\u001b[0m \u001b[1;34m'CD_REGIAO_COVID'\u001b[0m\u001b[1;33m]\u001b[0m\u001b[1;33m)\u001b[0m\u001b[1;33m\u001b[0m\u001b[1;33m\u001b[0m\u001b[0m\n\u001b[0m",
      "\u001b[1;32mc:\\python\\lib\\site-packages\\pandas\\core\\frame.py\u001b[0m in \u001b[0;36mdrop\u001b[1;34m(self, labels, axis, index, columns, level, inplace, errors)\u001b[0m\n\u001b[0;32m   4172\u001b[0m             \u001b[0mlevel\u001b[0m\u001b[1;33m=\u001b[0m\u001b[0mlevel\u001b[0m\u001b[1;33m,\u001b[0m\u001b[1;33m\u001b[0m\u001b[1;33m\u001b[0m\u001b[0m\n\u001b[0;32m   4173\u001b[0m             \u001b[0minplace\u001b[0m\u001b[1;33m=\u001b[0m\u001b[0minplace\u001b[0m\u001b[1;33m,\u001b[0m\u001b[1;33m\u001b[0m\u001b[1;33m\u001b[0m\u001b[0m\n\u001b[1;32m-> 4174\u001b[1;33m             \u001b[0merrors\u001b[0m\u001b[1;33m=\u001b[0m\u001b[0merrors\u001b[0m\u001b[1;33m,\u001b[0m\u001b[1;33m\u001b[0m\u001b[1;33m\u001b[0m\u001b[0m\n\u001b[0m\u001b[0;32m   4175\u001b[0m         )\n\u001b[0;32m   4176\u001b[0m \u001b[1;33m\u001b[0m\u001b[0m\n",
      "\u001b[1;32mc:\\python\\lib\\site-packages\\pandas\\core\\generic.py\u001b[0m in \u001b[0;36mdrop\u001b[1;34m(self, labels, axis, index, columns, level, inplace, errors)\u001b[0m\n\u001b[0;32m   3887\u001b[0m         \u001b[1;32mfor\u001b[0m \u001b[0maxis\u001b[0m\u001b[1;33m,\u001b[0m \u001b[0mlabels\u001b[0m \u001b[1;32min\u001b[0m \u001b[0maxes\u001b[0m\u001b[1;33m.\u001b[0m\u001b[0mitems\u001b[0m\u001b[1;33m(\u001b[0m\u001b[1;33m)\u001b[0m\u001b[1;33m:\u001b[0m\u001b[1;33m\u001b[0m\u001b[1;33m\u001b[0m\u001b[0m\n\u001b[0;32m   3888\u001b[0m             \u001b[1;32mif\u001b[0m \u001b[0mlabels\u001b[0m \u001b[1;32mis\u001b[0m \u001b[1;32mnot\u001b[0m \u001b[1;32mNone\u001b[0m\u001b[1;33m:\u001b[0m\u001b[1;33m\u001b[0m\u001b[1;33m\u001b[0m\u001b[0m\n\u001b[1;32m-> 3889\u001b[1;33m                 \u001b[0mobj\u001b[0m \u001b[1;33m=\u001b[0m \u001b[0mobj\u001b[0m\u001b[1;33m.\u001b[0m\u001b[0m_drop_axis\u001b[0m\u001b[1;33m(\u001b[0m\u001b[0mlabels\u001b[0m\u001b[1;33m,\u001b[0m \u001b[0maxis\u001b[0m\u001b[1;33m,\u001b[0m \u001b[0mlevel\u001b[0m\u001b[1;33m=\u001b[0m\u001b[0mlevel\u001b[0m\u001b[1;33m,\u001b[0m \u001b[0merrors\u001b[0m\u001b[1;33m=\u001b[0m\u001b[0merrors\u001b[0m\u001b[1;33m)\u001b[0m\u001b[1;33m\u001b[0m\u001b[1;33m\u001b[0m\u001b[0m\n\u001b[0m\u001b[0;32m   3890\u001b[0m \u001b[1;33m\u001b[0m\u001b[0m\n\u001b[0;32m   3891\u001b[0m         \u001b[1;32mif\u001b[0m \u001b[0minplace\u001b[0m\u001b[1;33m:\u001b[0m\u001b[1;33m\u001b[0m\u001b[1;33m\u001b[0m\u001b[0m\n",
      "\u001b[1;32mc:\\python\\lib\\site-packages\\pandas\\core\\generic.py\u001b[0m in \u001b[0;36m_drop_axis\u001b[1;34m(self, labels, axis, level, errors)\u001b[0m\n\u001b[0;32m   3921\u001b[0m                 \u001b[0mnew_axis\u001b[0m \u001b[1;33m=\u001b[0m \u001b[0maxis\u001b[0m\u001b[1;33m.\u001b[0m\u001b[0mdrop\u001b[0m\u001b[1;33m(\u001b[0m\u001b[0mlabels\u001b[0m\u001b[1;33m,\u001b[0m \u001b[0mlevel\u001b[0m\u001b[1;33m=\u001b[0m\u001b[0mlevel\u001b[0m\u001b[1;33m,\u001b[0m \u001b[0merrors\u001b[0m\u001b[1;33m=\u001b[0m\u001b[0merrors\u001b[0m\u001b[1;33m)\u001b[0m\u001b[1;33m\u001b[0m\u001b[1;33m\u001b[0m\u001b[0m\n\u001b[0;32m   3922\u001b[0m             \u001b[1;32melse\u001b[0m\u001b[1;33m:\u001b[0m\u001b[1;33m\u001b[0m\u001b[1;33m\u001b[0m\u001b[0m\n\u001b[1;32m-> 3923\u001b[1;33m                 \u001b[0mnew_axis\u001b[0m \u001b[1;33m=\u001b[0m \u001b[0maxis\u001b[0m\u001b[1;33m.\u001b[0m\u001b[0mdrop\u001b[0m\u001b[1;33m(\u001b[0m\u001b[0mlabels\u001b[0m\u001b[1;33m,\u001b[0m \u001b[0merrors\u001b[0m\u001b[1;33m=\u001b[0m\u001b[0merrors\u001b[0m\u001b[1;33m)\u001b[0m\u001b[1;33m\u001b[0m\u001b[1;33m\u001b[0m\u001b[0m\n\u001b[0m\u001b[0;32m   3924\u001b[0m             \u001b[0mresult\u001b[0m \u001b[1;33m=\u001b[0m \u001b[0mself\u001b[0m\u001b[1;33m.\u001b[0m\u001b[0mreindex\u001b[0m\u001b[1;33m(\u001b[0m\u001b[1;33m**\u001b[0m\u001b[1;33m{\u001b[0m\u001b[0maxis_name\u001b[0m\u001b[1;33m:\u001b[0m \u001b[0mnew_axis\u001b[0m\u001b[1;33m}\u001b[0m\u001b[1;33m)\u001b[0m\u001b[1;33m\u001b[0m\u001b[1;33m\u001b[0m\u001b[0m\n\u001b[0;32m   3925\u001b[0m \u001b[1;33m\u001b[0m\u001b[0m\n",
      "\u001b[1;32mc:\\python\\lib\\site-packages\\pandas\\core\\indexes\\base.py\u001b[0m in \u001b[0;36mdrop\u001b[1;34m(self, labels, errors)\u001b[0m\n\u001b[0;32m   5285\u001b[0m         \u001b[1;32mif\u001b[0m \u001b[0mmask\u001b[0m\u001b[1;33m.\u001b[0m\u001b[0many\u001b[0m\u001b[1;33m(\u001b[0m\u001b[1;33m)\u001b[0m\u001b[1;33m:\u001b[0m\u001b[1;33m\u001b[0m\u001b[1;33m\u001b[0m\u001b[0m\n\u001b[0;32m   5286\u001b[0m             \u001b[1;32mif\u001b[0m \u001b[0merrors\u001b[0m \u001b[1;33m!=\u001b[0m \u001b[1;34m\"ignore\"\u001b[0m\u001b[1;33m:\u001b[0m\u001b[1;33m\u001b[0m\u001b[1;33m\u001b[0m\u001b[0m\n\u001b[1;32m-> 5287\u001b[1;33m                 \u001b[1;32mraise\u001b[0m \u001b[0mKeyError\u001b[0m\u001b[1;33m(\u001b[0m\u001b[1;34mf\"{labels[mask]} not found in axis\"\u001b[0m\u001b[1;33m)\u001b[0m\u001b[1;33m\u001b[0m\u001b[1;33m\u001b[0m\u001b[0m\n\u001b[0m\u001b[0;32m   5288\u001b[0m             \u001b[0mindexer\u001b[0m \u001b[1;33m=\u001b[0m \u001b[0mindexer\u001b[0m\u001b[1;33m[\u001b[0m\u001b[1;33m~\u001b[0m\u001b[0mmask\u001b[0m\u001b[1;33m]\u001b[0m\u001b[1;33m\u001b[0m\u001b[1;33m\u001b[0m\u001b[0m\n\u001b[0;32m   5289\u001b[0m         \u001b[1;32mreturn\u001b[0m \u001b[0mself\u001b[0m\u001b[1;33m.\u001b[0m\u001b[0mdelete\u001b[0m\u001b[1;33m(\u001b[0m\u001b[0mindexer\u001b[0m\u001b[1;33m)\u001b[0m\u001b[1;33m\u001b[0m\u001b[1;33m\u001b[0m\u001b[0m\n",
      "\u001b[1;31mKeyError\u001b[0m: \"['LOTE' 'CNES' 'SISTEMA_ORIGEM' 'CD_MUN_RESIDENCIA'] not found in axis\""
     ]
    }
   ],
   "source": [
    "df = df.drop(columns = ['LOTE', 'CNES', 'SISTEMA_ORIGEM', 'CD_MUN_RESIDENCIA', 'CD_REGIAO_COVID'])"
   ]
  },
  {
   "cell_type": "code",
   "execution_count": 37,
   "id": "4a6aee1d",
   "metadata": {},
   "outputs": [
    {
     "data": {
      "text/plain": [
       "(12554400, 10)"
      ]
     },
     "execution_count": 37,
     "metadata": {},
     "output_type": "execute_result"
    }
   ],
   "source": [
    "#rows, columns\n",
    "df.shape"
   ]
  },
  {
   "cell_type": "code",
   "execution_count": 38,
   "id": "3f109c84",
   "metadata": {
    "scrolled": true
   },
   "outputs": [
    {
     "data": {
      "text/plain": [
       "Index(['FAIXAETARIA', 'SEXO', 'DOSE', 'CD_MUNICIPIO', 'CD_REGIAO_COVID',\n",
       "       'RACA_COR', 'GRUPO', 'DETALHEGRUPO', 'DATA', 'TP_VACINA'],\n",
       "      dtype='object')"
      ]
     },
     "execution_count": 38,
     "metadata": {},
     "output_type": "execute_result"
    }
   ],
   "source": [
    "#headers\n",
    "df.columns"
   ]
  },
  {
   "cell_type": "code",
   "execution_count": 39,
   "id": "0564a823",
   "metadata": {
    "collapsed": true
   },
   "outputs": [
    {
     "data": {
      "text/html": [
       "<div>\n",
       "<style scoped>\n",
       "    .dataframe tbody tr th:only-of-type {\n",
       "        vertical-align: middle;\n",
       "    }\n",
       "\n",
       "    .dataframe tbody tr th {\n",
       "        vertical-align: top;\n",
       "    }\n",
       "\n",
       "    .dataframe thead th {\n",
       "        text-align: right;\n",
       "    }\n",
       "</style>\n",
       "<table border=\"1\" class=\"dataframe\">\n",
       "  <thead>\n",
       "    <tr style=\"text-align: right;\">\n",
       "      <th></th>\n",
       "      <th>FAIXAETARIA</th>\n",
       "      <th>SEXO</th>\n",
       "      <th>DOSE</th>\n",
       "      <th>CD_MUNICIPIO</th>\n",
       "      <th>RACA_COR</th>\n",
       "      <th>GRUPO</th>\n",
       "      <th>DETALHEGRUPO</th>\n",
       "      <th>DATA</th>\n",
       "      <th>TP_VACINA</th>\n",
       "    </tr>\n",
       "  </thead>\n",
       "  <tbody>\n",
       "    <tr>\n",
       "      <th>0</th>\n",
       "      <td>55 a 59</td>\n",
       "      <td>Feminino</td>\n",
       "      <td>1</td>\n",
       "      <td>430120</td>\n",
       "      <td>BRANCA</td>\n",
       "      <td>Trabalhadores de Saúde</td>\n",
       "      <td>Técnico de Enfermagem</td>\n",
       "      <td>2021-01-18</td>\n",
       "      <td>CoronaVac</td>\n",
       "    </tr>\n",
       "    <tr>\n",
       "      <th>1</th>\n",
       "      <td>30 a 34</td>\n",
       "      <td>Feminino</td>\n",
       "      <td>1</td>\n",
       "      <td>430120</td>\n",
       "      <td>BRANCA</td>\n",
       "      <td>Trabalhadores de Saúde</td>\n",
       "      <td>Enfermeiro(a)</td>\n",
       "      <td>2021-01-18</td>\n",
       "      <td>CoronaVac</td>\n",
       "    </tr>\n",
       "    <tr>\n",
       "      <th>2</th>\n",
       "      <td>45 a 49</td>\n",
       "      <td>Feminino</td>\n",
       "      <td>1</td>\n",
       "      <td>430130</td>\n",
       "      <td>BRANCA</td>\n",
       "      <td>Comorbidades</td>\n",
       "      <td>Hipertensão de difícil controle ou com complic...</td>\n",
       "      <td>2021-01-18</td>\n",
       "      <td>AstraZeneca</td>\n",
       "    </tr>\n",
       "    <tr>\n",
       "      <th>3</th>\n",
       "      <td>80 e mais</td>\n",
       "      <td>Feminino</td>\n",
       "      <td>1</td>\n",
       "      <td>430270</td>\n",
       "      <td>BRANCA</td>\n",
       "      <td>Faixa Etária</td>\n",
       "      <td>Pessoas de 80 anos ou mais</td>\n",
       "      <td>2021-01-18</td>\n",
       "      <td>CoronaVac</td>\n",
       "    </tr>\n",
       "    <tr>\n",
       "      <th>4</th>\n",
       "      <td>30 a 34</td>\n",
       "      <td>Feminino</td>\n",
       "      <td>1</td>\n",
       "      <td>430390</td>\n",
       "      <td>BRANCA</td>\n",
       "      <td>Trabalhadores de Saúde</td>\n",
       "      <td>Técnico de Enfermagem</td>\n",
       "      <td>2021-01-18</td>\n",
       "      <td>CoronaVac</td>\n",
       "    </tr>\n",
       "    <tr>\n",
       "      <th>...</th>\n",
       "      <td>...</td>\n",
       "      <td>...</td>\n",
       "      <td>...</td>\n",
       "      <td>...</td>\n",
       "      <td>...</td>\n",
       "      <td>...</td>\n",
       "      <td>...</td>\n",
       "      <td>...</td>\n",
       "      <td>...</td>\n",
       "    </tr>\n",
       "    <tr>\n",
       "      <th>12554395</th>\n",
       "      <td>25 a 29</td>\n",
       "      <td>Masculino</td>\n",
       "      <td>2</td>\n",
       "      <td>432380</td>\n",
       "      <td>SEM INFORMACAO</td>\n",
       "      <td>Faixa Etária</td>\n",
       "      <td>Pessoas de 18 a 59 anos</td>\n",
       "      <td>2021-09-13</td>\n",
       "      <td>CoronaVac</td>\n",
       "    </tr>\n",
       "    <tr>\n",
       "      <th>12554396</th>\n",
       "      <td>25 a 29</td>\n",
       "      <td>Feminino</td>\n",
       "      <td>2</td>\n",
       "      <td>432380</td>\n",
       "      <td>BRANCA</td>\n",
       "      <td>Faixa Etária</td>\n",
       "      <td>Pessoas de 18 a 59 anos</td>\n",
       "      <td>2021-09-13</td>\n",
       "      <td>CoronaVac</td>\n",
       "    </tr>\n",
       "    <tr>\n",
       "      <th>12554397</th>\n",
       "      <td>30 a 34</td>\n",
       "      <td>Masculino</td>\n",
       "      <td>2</td>\n",
       "      <td>432380</td>\n",
       "      <td>BRANCA</td>\n",
       "      <td>Faixa Etária</td>\n",
       "      <td>Pessoas de 18 a 59 anos</td>\n",
       "      <td>2021-09-13</td>\n",
       "      <td>CoronaVac</td>\n",
       "    </tr>\n",
       "    <tr>\n",
       "      <th>12554398</th>\n",
       "      <td>25 a 29</td>\n",
       "      <td>Feminino</td>\n",
       "      <td>2</td>\n",
       "      <td>432380</td>\n",
       "      <td>BRANCA</td>\n",
       "      <td>Faixa Etária</td>\n",
       "      <td>Pessoas de 18 a 59 anos</td>\n",
       "      <td>2021-09-13</td>\n",
       "      <td>CoronaVac</td>\n",
       "    </tr>\n",
       "    <tr>\n",
       "      <th>12554399</th>\n",
       "      <td>25 a 29</td>\n",
       "      <td>Feminino</td>\n",
       "      <td>2</td>\n",
       "      <td>432380</td>\n",
       "      <td>BRANCA</td>\n",
       "      <td>Faixa Etária</td>\n",
       "      <td>Pessoas de 18 a 59 anos</td>\n",
       "      <td>2021-09-13</td>\n",
       "      <td>CoronaVac</td>\n",
       "    </tr>\n",
       "  </tbody>\n",
       "</table>\n",
       "<p>12554400 rows × 9 columns</p>\n",
       "</div>"
      ],
      "text/plain": [
       "         FAIXAETARIA       SEXO DOSE  CD_MUNICIPIO        RACA_COR  \\\n",
       "0            55 a 59   Feminino    1        430120          BRANCA   \n",
       "1            30 a 34   Feminino    1        430120          BRANCA   \n",
       "2            45 a 49   Feminino    1        430130          BRANCA   \n",
       "3          80 e mais   Feminino    1        430270          BRANCA   \n",
       "4            30 a 34   Feminino    1        430390          BRANCA   \n",
       "...              ...        ...  ...           ...             ...   \n",
       "12554395     25 a 29  Masculino    2        432380  SEM INFORMACAO   \n",
       "12554396     25 a 29   Feminino    2        432380          BRANCA   \n",
       "12554397     30 a 34  Masculino    2        432380          BRANCA   \n",
       "12554398     25 a 29   Feminino    2        432380          BRANCA   \n",
       "12554399     25 a 29   Feminino    2        432380          BRANCA   \n",
       "\n",
       "                           GRUPO  \\\n",
       "0         Trabalhadores de Saúde   \n",
       "1         Trabalhadores de Saúde   \n",
       "2                   Comorbidades   \n",
       "3                   Faixa Etária   \n",
       "4         Trabalhadores de Saúde   \n",
       "...                          ...   \n",
       "12554395            Faixa Etária   \n",
       "12554396            Faixa Etária   \n",
       "12554397            Faixa Etária   \n",
       "12554398            Faixa Etária   \n",
       "12554399            Faixa Etária   \n",
       "\n",
       "                                               DETALHEGRUPO        DATA  \\\n",
       "0                                     Técnico de Enfermagem  2021-01-18   \n",
       "1                                             Enfermeiro(a)  2021-01-18   \n",
       "2         Hipertensão de difícil controle ou com complic...  2021-01-18   \n",
       "3                                Pessoas de 80 anos ou mais  2021-01-18   \n",
       "4                                     Técnico de Enfermagem  2021-01-18   \n",
       "...                                                     ...         ...   \n",
       "12554395                            Pessoas de 18 a 59 anos  2021-09-13   \n",
       "12554396                            Pessoas de 18 a 59 anos  2021-09-13   \n",
       "12554397                            Pessoas de 18 a 59 anos  2021-09-13   \n",
       "12554398                            Pessoas de 18 a 59 anos  2021-09-13   \n",
       "12554399                            Pessoas de 18 a 59 anos  2021-09-13   \n",
       "\n",
       "            TP_VACINA  \n",
       "0           CoronaVac  \n",
       "1           CoronaVac  \n",
       "2         AstraZeneca  \n",
       "3           CoronaVac  \n",
       "4           CoronaVac  \n",
       "...               ...  \n",
       "12554395    CoronaVac  \n",
       "12554396    CoronaVac  \n",
       "12554397    CoronaVac  \n",
       "12554398    CoronaVac  \n",
       "12554399    CoronaVac  \n",
       "\n",
       "[12554400 rows x 9 columns]"
      ]
     },
     "execution_count": 39,
     "metadata": {},
     "output_type": "execute_result"
    }
   ],
   "source": [
    "df.drop(columns=['CD_REGIAO_COVID'])"
   ]
  },
  {
   "cell_type": "code",
   "execution_count": 41,
   "id": "68f45364",
   "metadata": {},
   "outputs": [],
   "source": [
    "df.to_csv('new_aplicacao_vacina.csv')"
   ]
  },
  {
   "cell_type": "markdown",
   "id": "7a9654cf",
   "metadata": {},
   "source": [
    "# Filtering Data"
   ]
  },
  {
   "cell_type": "code",
   "execution_count": null,
   "id": "48d19f4c",
   "metadata": {},
   "outputs": [],
   "source": []
  }
 ],
 "metadata": {
  "kernelspec": {
   "display_name": "Python 3.6.8 64-bit",
   "language": "python",
   "name": "python368jvsc74a57bd038740d3277777e2cd7c6c2cc9d8addf5118fdf3f82b1b39231fd12aeac8aee8b"
  },
  "language_info": {
   "codemirror_mode": {
    "name": "ipython",
    "version": 3
   },
   "file_extension": ".py",
   "mimetype": "text/x-python",
   "name": "python",
   "nbconvert_exporter": "python",
   "pygments_lexer": "ipython3",
   "version": "3.6.8"
  }
 },
 "nbformat": 4,
 "nbformat_minor": 5
}
